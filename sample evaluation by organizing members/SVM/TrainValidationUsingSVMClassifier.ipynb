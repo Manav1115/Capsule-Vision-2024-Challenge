{
 "cells": [
  {
   "cell_type": "code",
   "execution_count": 1,
   "id": "a50c9621-aa6a-4b61-af41-6b252884b763",
   "metadata": {},
   "outputs": [
    {
     "name": "stdout",
     "output_type": "stream",
     "text": [
      "WARNING:tensorflow:From C:\\Users\\Joshi\\AppData\\Local\\Programs\\Python\\Python311\\Lib\\site-packages\\keras\\src\\losses.py:2976: The name tf.losses.sparse_softmax_cross_entropy is deprecated. Please use tf.compat.v1.losses.sparse_softmax_cross_entropy instead.\n",
      "\n"
     ]
    }
   ],
   "source": [
    "import pickle\n",
    "import numpy as np\n",
    "import pandas as pd\n",
    "from tensorflow.keras.preprocessing.image import load_img, img_to_array\n",
    "from tensorflow.keras.applications.vgg16 import preprocess_input\n",
    "from sklearn.svm import SVC   # Support Vector Classifier for training the model\n",
    "from sklearn.metrics import accuracy_score, classification_report, confusion_matrix, roc_auc_score, roc_curve\n",
    "from sklearn.preprocessing import StandardScaler, LabelBinarizer   # For scaling features and binarizing labels\n",
    "import matplotlib.pyplot as plt # For visualizations\n",
    "import seaborn as sns   # For heatmap"
   ]
  },
  {
   "cell_type": "code",
   "execution_count": 4,
   "id": "479093ae-0596-44d5-a8fc-f4e374d2ecc0",
   "metadata": {},
   "outputs": [],
   "source": [
    "def load_and_preprocess_image(path, target_size):\n",
    "    img = load_img(path, target_size=target_size)  # Load image from path with specified target size\n",
    "    img_array = img_to_array(img)  # Convert image to array\n",
    "    preprocessed_img = preprocess_input(img_array)  # Preprocess the image using VGG16 preprocessing\n",
    "    flattened_img = preprocessed_img.flatten()  # Flatten the image array to 1D\n",
    "    return flattened_img\n",
    "\n",
    "def get_data_for_training(excel_path, image_size=(32, 32)):\n",
    "    df = pd.read_excel(excel_path)  \n",
    "    df = df.dropna(subset=['image_path'])  \n",
    "\n",
    "    df = df.drop(columns=['Dataset'])  # Drop the 'Dataset' column\n",
    "\n",
    "    x = []  \n",
    "    y = []  \n",
    "    image_paths = []  \n",
    "\n",
    "    # Iterate through each row in the dataframe\n",
    "    for idx, row in df.iterrows():\n",
    "        image_path = row['image_path']  # Get image path\n",
    "        label = row.drop('image_path').idxmax()  # Get the label (the column with the maximum value)\n",
    "\n",
    "        image = load_and_preprocess_image(image_path, image_size)  # Load and preprocess the image\n",
    "\n",
    "        x.append(image)  \n",
    "        y.append(label)  \n",
    "        image_paths.append(image_path)  \n",
    "\n",
    "    x = np.array(x)  \n",
    "    y = np.array(y)  \n",
    "\n",
    "    return x, y, image_paths  "
   ]
  },
  {
   "cell_type": "code",
   "execution_count": 5,
   "id": "de71214f-4efe-4129-abf6-01f3d055192e",
   "metadata": {},
   "outputs": [
    {
     "name": "stdout",
     "output_type": "stream",
     "text": [
      "train data loaded\n",
      "val data loaded\n"
     ]
    }
   ],
   "source": [
    "# File paths to training and validation data\n",
    "train_excel_path = \"training/training_data.xlsx\"\n",
    "val_excel_path = \"validation/validation_data.xlsx\"\n",
    "image_size = (32, 32)   # Reduced image size to save memory\n",
    "batch_size = 4096\n",
    "\n",
    "# Load and preprocess training and validation data\n",
    "X_train, y_train, _ = get_data_for_training(train_excel_path, image_size=image_size)\n",
    "print(\"train data loaded\")\n",
    "X_val, y_val, image_paths = get_data_for_training(val_excel_path, image_size=image_size)\n",
    "print(\"val data loaded\")"
   ]
  },
  {
   "cell_type": "code",
   "execution_count": 6,
   "id": "3b476ccb-4a86-459f-960a-ab8b024d2b7b",
   "metadata": {},
   "outputs": [
    {
     "name": "stdout",
     "output_type": "stream",
     "text": [
      "scaling complete\n"
     ]
    }
   ],
   "source": [
    "# Standardize the features by removing the mean and scaling to unit variance\n",
    "scaler = StandardScaler()\n",
    "X_train = scaler.fit_transform(X_train)\n",
    "X_val = scaler.transform(X_val)\n",
    "print(\"scaling complete\")"
   ]
  },
  {
   "cell_type": "code",
   "execution_count": null,
   "id": "c286588c-ebe4-4839-a426-89f057ee85be",
   "metadata": {},
   "outputs": [],
   "source": [
    "# Initialize and train the SVM model\n",
    "svm_model = SVC(kernel='rbf', probability=True)  \n",
    "svm_model.fit(X_train, y_train)\n",
    "print(\"training complete\")"
   ]
  },
  {
   "cell_type": "code",
   "execution_count": null,
   "id": "95abcc11-fe66-4166-aba9-70b931e95aa9",
   "metadata": {},
   "outputs": [],
   "source": [
    "#printing accuracy\n",
    "y_pred = svm_model.predict(X_val)\n",
    "y_pred_proba = svm_model.predict_proba(X_val)\n",
    "val_accuracy = accuracy_score(y_val, y_pred)\n",
    "print(f\"Validation accuracy: {val_accuracy}\")"
   ]
  },
  {
   "cell_type": "code",
   "execution_count": null,
   "id": "0638a65c-7531-4add-8a00-3834ce292f83",
   "metadata": {},
   "outputs": [],
   "source": [
    "# Save validation predictions to an Excel file\n",
    "results_df = pd.DataFrame({\n",
    "    'Image_path': image_paths,\n",
    "    'actual_class': y_val,\n",
    "    'predicted_class': y_pred\n",
    "})\n",
    "results_df.to_excel(\"results.xlsx\", index=False)"
   ]
  },
  {
   "cell_type": "code",
   "execution_count": null,
   "id": "1d133f4c-35b9-4ef5-8cdc-e0eb97f92aeb",
   "metadata": {},
   "outputs": [],
   "source": [
    "# Print the confusion matrix\n",
    "print(\"Confusion Matrix:\")\n",
    "cm = confusion_matrix(y_val, y_pred, normalize='true')\n",
    "print(cm)"
   ]
  },
  {
   "cell_type": "code",
   "execution_count": null,
   "id": "921bb2cd-ed88-4591-a2c4-14f4cde25708",
   "metadata": {},
   "outputs": [],
   "source": [
    "# Print the classification report\n",
    "print(\"Classification Report:\")\n",
    "print(classification_report(y_val, y_pred))"
   ]
  },
  {
   "cell_type": "code",
   "execution_count": null,
   "id": "26308622-b65e-409a-bfb5-c34bcc395fcb",
   "metadata": {},
   "outputs": [],
   "source": [
    "# printing the normalized confusion matrix heatmap\n",
    "plt.figure(figsize=(10, 8))\n",
    "sns.heatmap(cm, annot=True, fmt=\".2f\", cmap='Blues', xticklabels=np.unique(y_val), yticklabels=np.unique(y_val))\n",
    "plt.xlabel('Predicted')\n",
    "plt.ylabel('True')\n",
    "plt.title('Normalized Confusion Matrix')\n",
    "plt.show()"
   ]
  },
  {
   "cell_type": "code",
   "execution_count": null,
   "id": "d286db8c-cd96-408f-9596-45421b486bf4",
   "metadata": {},
   "outputs": [],
   "source": [
    "# Plot AUC-ROC curve\n",
    "lb = LabelBinarizer()\n",
    "y_val_bin = lb.fit_transform(y_val)\n",
    "fpr = dict()\n",
    "tpr = dict()\n",
    "roc_auc = dict()\n",
    "\n",
    "for i in range(len(lb.classes_)):\n",
    "    fpr[i], tpr[i], _ = roc_curve(y_val_bin[:, i], y_pred_proba[:, i])\n",
    "    roc_auc[i] = roc_auc_score(y_val_bin[:, i], y_pred_proba[:, i])\n",
    "\n",
    "plt.figure()\n",
    "for i in range(len(lb.classes_)):\n",
    "    plt.plot(fpr[i], tpr[i], label=f'Class {lb.classes_[i]} (AUC = {roc_auc[i]:.2f})')\n",
    "\n",
    "plt.plot([0, 1], [0, 1], 'k--')\n",
    "plt.xlim([0.0, 1.0])\n",
    "plt.ylim([0.0, 1.05])\n",
    "plt.xlabel('False Positive Rate')\n",
    "plt.ylabel('True Positive Rate')\n",
    "plt.title('AUC-ROC Curve')\n",
    "plt.legend(loc='lower right')\n",
    "plt.show()"
   ]
  },
  {
   "cell_type": "markdown",
   "id": "d0009d4d-d435-47f4-96fe-28f65904aaaa",
   "metadata": {},
   "source": [
    "### Code Contributed by Manya Joshi"
   ]
  }
 ],
 "metadata": {
  "kernelspec": {
   "display_name": "Python 3 (ipykernel)",
   "language": "python",
   "name": "python3"
  },
  "language_info": {
   "codemirror_mode": {
    "name": "ipython",
    "version": 3
   },
   "file_extension": ".py",
   "mimetype": "text/x-python",
   "name": "python",
   "nbconvert_exporter": "python",
   "pygments_lexer": "ipython3",
   "version": "3.11.6"
  }
 },
 "nbformat": 4,
 "nbformat_minor": 5
}
